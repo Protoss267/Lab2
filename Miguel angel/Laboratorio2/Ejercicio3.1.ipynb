{
 "cells": [
  {
   "cell_type": "markdown",
   "id": "10453e89-e16e-4cd8-a35b-be2f03c4f6e1",
   "metadata": {},
   "source": [
    "Importando librerias"
   ]
  },
  {
   "cell_type": "code",
   "execution_count": null,
   "id": "8e1df0a1-bd51-4755-a063-27bc3e3488b8",
   "metadata": {},
   "outputs": [],
   "source": [
    "    import pandas as pd\n",
    "    import requests\n",
    "    import pickle  # Importa pickle para cargar el modelo\n",
    "    from sklearn.metrics import mean_squared_error, r2_score\n",
    "    from sklearn.linear_model import LinearRegression\n",
    "    from sklearn.model_selection import train_test_split"
   ]
  },
  {
   "cell_type": "markdown",
   "id": "2c41c4ee-9e27-427e-84f5-e8a6e1680f75",
   "metadata": {},
   "source": [
    "Cargar csv"
   ]
  },
  {
   "cell_type": "code",
   "execution_count": null,
   "id": "df774635-cb27-43ed-a4ab-cf2ea8c14ae3",
   "metadata": {},
   "outputs": [],
   "source": [
    "data_url = 'https://raw.githubusercontent.com/aavazquezs/curso_aprendizaje_automatico_UCI_2023/master/datasets/students_performance_evaluation.csv'\n",
    "data = pd.read_csv(data_url)"
   ]
  },
  {
   "cell_type": "markdown",
   "id": "cbc6d591-3b85-454a-8162-9687a6ff9c99",
   "metadata": {},
   "source": [
    "Cargar Modelo"
   ]
  },
  {
   "cell_type": "code",
   "execution_count": null,
   "id": "d2001f04-3a6d-4528-8898-1e59604e61a5",
   "metadata": {},
   "outputs": [],
   "source": [
    "url_modelo = 'https://github.com/aavazquezs/curso_aprendizaje_automatico_UCI_2023/blob/master/saved_models/student_performance_reg.pkl?raw=true'\n",
    "modelo_nombre = 'student_performance_reg.pkl'\n",
    "\n",
    "respuesta = requests.get(url_modelo)\n",
    "with open(modelo_nombre, 'wb') as file:\n",
    "        file.write(respuesta.content)\n",
    "\n",
    "    \n",
    "with open(modelo_nombre, 'rb') as file:\n",
    "model = pickle.load(file)"
   ]
  },
  {
   "cell_type": "markdown",
   "id": "2feaa52a-9c70-4dcf-80ae-672f64733eb3",
   "metadata": {},
   "source": [
    "eliminando columna irrelevante"
   ]
  },
  {
   "cell_type": "code",
   "execution_count": null,
   "id": "a125e60e-b2ca-4094-afc4-7e7e0db2553d",
   "metadata": {},
   "outputs": [],
   "source": [
    "data = data.drop(columns=['STUDENT ID'])"
   ]
  },
  {
   "cell_type": "markdown",
   "id": "0a3486bc-2269-4c6c-b64d-2aacdb008514",
   "metadata": {},
   "source": [
    "Separar Datos"
   ]
  },
  {
   "cell_type": "code",
   "execution_count": null,
   "id": "1362544c-c812-42c0-99c5-603a9cc22c04",
   "metadata": {},
   "outputs": [],
   "source": [
    "X = data.drop('GRADE', axis=1)  \n",
    "y = data['GRADE'] "
   ]
  },
  {
   "cell_type": "markdown",
   "id": "8a25acf0-27af-43b3-8f8e-69ea65a486e3",
   "metadata": {},
   "source": [
    "Creando entrenamiento y prueba"
   ]
  },
  {
   "cell_type": "code",
   "execution_count": null,
   "id": "435d1e0c-9fcd-4907-8325-a034ef8fba05",
   "metadata": {},
   "outputs": [],
   "source": [
    "X_train, X_test, y_train, y_test = train_test_split(X, y, test_size=0.2, random_state=42)"
   ]
  },
  {
   "cell_type": "markdown",
   "id": "fd7eae9e-473e-414d-9b09-50c7837b5e7a",
   "metadata": {},
   "source": [
    "Entrenando y haciendo predicciones"
   ]
  },
  {
   "cell_type": "code",
   "execution_count": null,
   "id": "8cb78c13-7395-4276-94d2-44669969213d",
   "metadata": {},
   "outputs": [],
   "source": [
    "model = LinearRegression()  \n",
    "model.fit(X_train, y_train)  \n",
    "y_pred = model.predict(X_test)  "
   ]
  },
  {
   "cell_type": "markdown",
   "id": "19a7e9c6-0f3c-4196-a30c-cbfe7b3c079f",
   "metadata": {},
   "source": [
    "Evaluando"
   ]
  },
  {
   "cell_type": "code",
   "execution_count": null,
   "id": "c4e7cfd1-4908-468a-b16e-521d6b7de9e3",
   "metadata": {},
   "outputs": [],
   "source": [
    "mse = mean_squared_error(y_test, y_pred)\n",
    "r2 = r2_score(y_test, y_pred)\n",
    "print(f'MSE: {mse}')\n",
    "print(f'R²: {r2}')"
   ]
  }
 ],
 "metadata": {
  "kernelspec": {
   "display_name": "Python 3 (ipykernel)",
   "language": "python",
   "name": "python3"
  },
  "language_info": {
   "codemirror_mode": {
    "name": "ipython",
    "version": 3
   },
   "file_extension": ".py",
   "mimetype": "text/x-python",
   "name": "python",
   "nbconvert_exporter": "python",
   "pygments_lexer": "ipython3",
   "version": "3.12.4"
  }
 },
 "nbformat": 4,
 "nbformat_minor": 5
}
