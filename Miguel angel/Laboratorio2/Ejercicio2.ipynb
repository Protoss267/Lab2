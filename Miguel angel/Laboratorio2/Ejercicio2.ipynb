{
 "cells": [
  {
   "cell_type": "markdown",
   "id": "1e0afac8-ecfb-4f4b-9f92-ef604acd5b1d",
   "metadata": {},
   "source": [
    "Cargando librerias"
   ]
  },
  {
   "cell_type": "code",
   "execution_count": 1,
   "id": "5c73f0e5-afef-4ffd-9a94-461686030456",
   "metadata": {},
   "outputs": [],
   "source": [
    "import pandas as pd\n",
    "from sklearn.preprocessing import StandardScaler\n",
    "from sklearn.model_selection import train_test_split"
   ]
  },
  {
   "cell_type": "markdown",
   "id": "1ebf813b-b2b3-4a30-8fef-1a0169207ed5",
   "metadata": {},
   "source": [
    "Cargando dataset"
   ]
  },
  {
   "cell_type": "code",
   "execution_count": 2,
   "id": "137ca51f-d9d1-4e15-acc2-0ac62705b40d",
   "metadata": {},
   "outputs": [],
   "source": [
    "data = pd.read_csv('boston.csv')"
   ]
  },
  {
   "cell_type": "markdown",
   "id": "d7fce627-0384-43db-8ccf-60b2fd7b28bd",
   "metadata": {},
   "source": [
    "Mostrar informacion Basica del dataset"
   ]
  },
  {
   "cell_type": "code",
   "execution_count": 3,
   "id": "c5fb322c-d110-4786-945e-f076046957a3",
   "metadata": {},
   "outputs": [
    {
     "name": "stdout",
     "output_type": "stream",
     "text": [
      "<class 'pandas.core.frame.DataFrame'>\n",
      "RangeIndex: 506 entries, 0 to 505\n",
      "Data columns (total 16 columns):\n",
      " #   Column   Non-Null Count  Dtype  \n",
      "---  ------   --------------  -----  \n",
      " 0   TOWN     506 non-null    object \n",
      " 1   TRACT    506 non-null    int64  \n",
      " 2   LON      506 non-null    float64\n",
      " 3   LAT      506 non-null    float64\n",
      " 4   MEDV     506 non-null    float64\n",
      " 5   CRIM     506 non-null    float64\n",
      " 6   ZN       506 non-null    float64\n",
      " 7   INDUS    506 non-null    float64\n",
      " 8   CHAS     506 non-null    int64  \n",
      " 9   NOX      506 non-null    float64\n",
      " 10  RM       506 non-null    float64\n",
      " 11  AGE      506 non-null    float64\n",
      " 12  DIS      506 non-null    float64\n",
      " 13  RAD      506 non-null    int64  \n",
      " 14  TAX      506 non-null    int64  \n",
      " 15  PTRATIO  506 non-null    float64\n",
      "dtypes: float64(11), int64(4), object(1)\n",
      "memory usage: 63.4+ KB\n",
      "None\n",
      "             TRACT         LON         LAT        MEDV        CRIM  \\\n",
      "count   506.000000  506.000000  506.000000  506.000000  506.000000   \n",
      "mean   2700.355731  -71.056389   42.216440   22.528854    3.613524   \n",
      "std    1380.036830    0.075405    0.061777    9.182176    8.601545   \n",
      "min       1.000000  -71.289500   42.030000    5.000000    0.006320   \n",
      "25%    1303.250000  -71.093225   42.180775   17.025000    0.082045   \n",
      "50%    3393.500000  -71.052900   42.218100   21.200000    0.256510   \n",
      "75%    3739.750000  -71.019625   42.252250   25.000000    3.677083   \n",
      "max    5082.000000  -70.810000   42.381000   50.000000   88.976200   \n",
      "\n",
      "               ZN       INDUS        CHAS         NOX          RM         AGE  \\\n",
      "count  506.000000  506.000000  506.000000  506.000000  506.000000  506.000000   \n",
      "mean    11.363636   11.136779    0.069170    0.554695    6.284634   68.574901   \n",
      "std     23.322453    6.860353    0.253994    0.115878    0.702617   28.148861   \n",
      "min      0.000000    0.460000    0.000000    0.385000    3.561000    2.900000   \n",
      "25%      0.000000    5.190000    0.000000    0.449000    5.885500   45.025000   \n",
      "50%      0.000000    9.690000    0.000000    0.538000    6.208500   77.500000   \n",
      "75%     12.500000   18.100000    0.000000    0.624000    6.623500   94.075000   \n",
      "max    100.000000   27.740000    1.000000    0.871000    8.780000  100.000000   \n",
      "\n",
      "              DIS         RAD         TAX     PTRATIO  \n",
      "count  506.000000  506.000000  506.000000  506.000000  \n",
      "mean     3.795043    9.549407  408.237154   18.455534  \n",
      "std      2.105710    8.707259  168.537116    2.164946  \n",
      "min      1.129600    1.000000  187.000000   12.600000  \n",
      "25%      2.100175    4.000000  279.000000   17.400000  \n",
      "50%      3.207450    5.000000  330.000000   19.050000  \n",
      "75%      5.188425   24.000000  666.000000   20.200000  \n",
      "max     12.126500   24.000000  711.000000   22.000000  \n",
      "TOWN       0\n",
      "TRACT      0\n",
      "LON        0\n",
      "LAT        0\n",
      "MEDV       0\n",
      "CRIM       0\n",
      "ZN         0\n",
      "INDUS      0\n",
      "CHAS       0\n",
      "NOX        0\n",
      "RM         0\n",
      "AGE        0\n",
      "DIS        0\n",
      "RAD        0\n",
      "TAX        0\n",
      "PTRATIO    0\n",
      "dtype: int64\n"
     ]
    }
   ],
   "source": [
    "print(data.info())\n",
    "print(data.describe())\n",
    "print(data.isnull().sum())"
   ]
  },
  {
   "cell_type": "markdown",
   "id": "cd078e3d-da2a-4618-b442-2c36096d9f0a",
   "metadata": {},
   "source": [
    "ONE-HOT-ENCODING"
   ]
  },
  {
   "cell_type": "code",
   "execution_count": 4,
   "id": "b868021d-ec35-46ff-82b6-096b9cf13b37",
   "metadata": {},
   "outputs": [],
   "source": [
    "df_encoded = pd.get_dummies(data, columns=['TOWN'], drop_first=True)"
   ]
  },
  {
   "cell_type": "markdown",
   "id": "c103b1f8-2304-4d01-98ce-652ff060540b",
   "metadata": {},
   "source": [
    "Imputar valores NaN con la media de la columna"
   ]
  },
  {
   "cell_type": "code",
   "execution_count": 5,
   "id": "c492e70b-4b6b-4a87-bede-cfa6d0bde572",
   "metadata": {},
   "outputs": [],
   "source": [
    "df_limpio = df_encoded.fillna(df_encoded.mean())"
   ]
  },
  {
   "cell_type": "markdown",
   "id": "30be2f5e-4826-4a6c-8363-a4ca9fccdb79",
   "metadata": {},
   "source": [
    "Separar las características de la variable objetivo"
   ]
  },
  {
   "cell_type": "code",
   "execution_count": 6,
   "id": "4bcccf5c-9c15-4c0c-983d-f7fc080ec259",
   "metadata": {},
   "outputs": [],
   "source": [
    "X = df_limpio.drop('MEDV', axis=1)\n",
    "y = df_limpio['MEDV']"
   ]
  },
  {
   "cell_type": "markdown",
   "id": "40f19724-3e5f-415d-8a58-d6b609552d67",
   "metadata": {},
   "source": [
    "Escalar las características"
   ]
  },
  {
   "cell_type": "code",
   "execution_count": 7,
   "id": "08bb7077-17f5-4269-b8c9-9de2246f93c7",
   "metadata": {},
   "outputs": [],
   "source": [
    "scaler = StandardScaler()\n",
    "X_scaled = scaler.fit_transform(X)"
   ]
  },
  {
   "cell_type": "markdown",
   "id": "8242bc38-c938-4302-ba04-1ff3e780d21e",
   "metadata": {},
   "source": [
    "Dividir"
   ]
  },
  {
   "cell_type": "code",
   "execution_count": 8,
   "id": "b407157f-c8ed-4174-a51d-6ef09329d1a7",
   "metadata": {},
   "outputs": [],
   "source": [
    "X_train, X_test, y_train, y_test = train_test_split(X_scaled, y, test_size=0.2, random_state=42)\n",
    "column_names = X.columns"
   ]
  },
  {
   "cell_type": "markdown",
   "id": "116bc89c-5033-4d60-98ab-8b1578a479b5",
   "metadata": {},
   "source": [
    "Creando nuevos data frame de prueba y test"
   ]
  },
  {
   "cell_type": "code",
   "execution_count": 9,
   "id": "97dadc94-690e-4e39-8a56-a954b922b9f7",
   "metadata": {},
   "outputs": [],
   "source": [
    "df_train = pd.DataFrame(X_train, columns=column_names)\n",
    "df_train['MEDV'] = y_train\n",
    "df_test = pd.DataFrame(X_test, columns=column_names)\n",
    "df_test['MEDV'] = y_test"
   ]
  },
  {
   "cell_type": "code",
   "execution_count": null,
   "id": "96a71e8c-cb41-4a48-87d9-f05f57061100",
   "metadata": {},
   "outputs": [],
   "source": []
  }
 ],
 "metadata": {
  "kernelspec": {
   "display_name": "Python 3 (ipykernel)",
   "language": "python",
   "name": "python3"
  },
  "language_info": {
   "codemirror_mode": {
    "name": "ipython",
    "version": 3
   },
   "file_extension": ".py",
   "mimetype": "text/x-python",
   "name": "python",
   "nbconvert_exporter": "python",
   "pygments_lexer": "ipython3",
   "version": "3.12.4"
  }
 },
 "nbformat": 4,
 "nbformat_minor": 5
}
