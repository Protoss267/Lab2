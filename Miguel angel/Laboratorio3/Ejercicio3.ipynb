{
 "cells": [
  {
   "cell_type": "markdown",
   "id": "6f4fd539-76de-4baa-a7aa-650b4ecd5b59",
   "metadata": {},
   "source": [
    "Importando librerias"
   ]
  },
  {
   "cell_type": "code",
   "execution_count": 1,
   "id": "5add1b59-a3a9-4516-be71-08500af015fe",
   "metadata": {},
   "outputs": [],
   "source": [
    "import pandas as pd\n",
    "from sklearn.model_selection import train_test_split\n",
    "from sklearn.preprocessing import StandardScaler\n",
    "from sklearn.neighbors import KNeighborsClassifier\n",
    "from sklearn.metrics import classification_report\n",
    "import matplotlib.pyplot as plt\n",
    "import seaborn as sns"
   ]
  },
  {
   "cell_type": "markdown",
   "id": "2eb839a2-aaea-4b0e-97df-b09106fee7d6",
   "metadata": {},
   "source": [
    "Cargando dataset"
   ]
  },
  {
   "cell_type": "code",
   "execution_count": 2,
   "id": "bc72b5cf-7a60-4a26-b695-8ac62635efcc",
   "metadata": {},
   "outputs": [],
   "source": [
    "data = pd.read_csv('breast_cancer.csv')"
   ]
  },
  {
   "cell_type": "markdown",
   "id": "b0991a60-938c-4cad-bfc6-3a987f0f7689",
   "metadata": {},
   "source": [
    "Separar caracteristicas y separar entrenamiento y prueba"
   ]
  },
  {
   "cell_type": "code",
   "execution_count": 3,
   "id": "c7f14500-80b4-40d6-8f5d-9a761214fae8",
   "metadata": {},
   "outputs": [],
   "source": [
    "X = data.drop(' diagnosis', axis=1)  \n",
    "y = data[' diagnosis']  \n",
    "X_train, X_test, y_train, y_test = train_test_split(X, y, test_size=0.2, random_state=42)"
   ]
  },
  {
   "cell_type": "markdown",
   "id": "8770e29f-1b28-4a36-a323-1c02264c41d5",
   "metadata": {},
   "source": [
    "Normalizar"
   ]
  },
  {
   "cell_type": "code",
   "execution_count": 4,
   "id": "005f59af-c467-478d-bcb0-7a2a741ac9c3",
   "metadata": {},
   "outputs": [],
   "source": [
    "scaler = StandardScaler()\n",
    "X_train = scaler.fit_transform(X_train)\n",
    "X_test = scaler.transform(X_test)"
   ]
  },
  {
   "cell_type": "markdown",
   "id": "1143edd7-949b-4299-83bc-d0ed05135d12",
   "metadata": {},
   "source": [
    "Crear Modelo,entrenando y prediciendo"
   ]
  },
  {
   "cell_type": "code",
   "execution_count": 5,
   "id": "dabdc4c8-671f-4d42-8306-e04261958b9a",
   "metadata": {},
   "outputs": [],
   "source": [
    "model = KNeighborsClassifier(n_neighbors=5)\n",
    "model.fit(X_train, y_train)\n",
    "y_pred = model.predict(X_test)"
   ]
  },
  {
   "cell_type": "markdown",
   "id": "50bb7f32-6252-4369-80d0-f9e305146d47",
   "metadata": {},
   "source": [
    "Evaluando"
   ]
  },
  {
   "cell_type": "code",
   "execution_count": 6,
   "id": "3ae0bc1d-b7a1-41af-b54d-1ab52b37583c",
   "metadata": {},
   "outputs": [
    {
     "name": "stdout",
     "output_type": "stream",
     "text": [
      "Reporte de clasificación:\n",
      "              precision    recall  f1-score   support\n",
      "\n",
      "           B       0.96      0.96      0.96        71\n",
      "           M       0.93      0.93      0.93        43\n",
      "\n",
      "    accuracy                           0.95       114\n",
      "   macro avg       0.94      0.94      0.94       114\n",
      "weighted avg       0.95      0.95      0.95       114\n",
      "\n"
     ]
    }
   ],
   "source": [
    "# Calcular métricas de evaluación\n",
    "print(\"Reporte de clasificación:\")\n",
    "print(classification_report(y_test, y_pred))"
   ]
  }
 ],
 "metadata": {
  "kernelspec": {
   "display_name": "Python 3 (ipykernel)",
   "language": "python",
   "name": "python3"
  },
  "language_info": {
   "codemirror_mode": {
    "name": "ipython",
    "version": 3
   },
   "file_extension": ".py",
   "mimetype": "text/x-python",
   "name": "python",
   "nbconvert_exporter": "python",
   "pygments_lexer": "ipython3",
   "version": "3.12.4"
  }
 },
 "nbformat": 4,
 "nbformat_minor": 5
}
