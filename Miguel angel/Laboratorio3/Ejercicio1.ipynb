{
 "cells": [
  {
   "cell_type": "markdown",
   "id": "95b1b486-4c2d-4f99-bb05-9ba93a9de828",
   "metadata": {},
   "source": [
    "Importando librerias"
   ]
  },
  {
   "cell_type": "code",
   "execution_count": 6,
   "id": "1a726119-6e89-45d5-93ff-8bf1355a2516",
   "metadata": {},
   "outputs": [],
   "source": [
    "import pandas as pd\n",
    "import numpy as np\n",
    "from sklearn.model_selection import train_test_split\n",
    "from sklearn.linear_model import LinearRegression\n",
    "from sklearn.metrics import mean_squared_error, r2_score"
   ]
  },
  {
   "cell_type": "markdown",
   "id": "3d8ef2b8-3c0a-4fbb-aa9d-eeb617a2948e",
   "metadata": {},
   "source": [
    "Cargando dataset"
   ]
  },
  {
   "cell_type": "code",
   "execution_count": 7,
   "id": "7f8e2388-3570-409b-bba7-cffd48693699",
   "metadata": {},
   "outputs": [],
   "source": [
    "df = pd.read_csv('winequality-white.csv', sep=';')"
   ]
  },
  {
   "cell_type": "markdown",
   "id": "a0f0bb20-6e14-4786-ae3e-096540725616",
   "metadata": {},
   "source": [
    "Separando variable objetivo de caracteristicas y separando en entrenamiento y prueba"
   ]
  },
  {
   "cell_type": "code",
   "execution_count": 8,
   "id": "64d65685-a19c-4a39-86c1-c3a7eabdcfed",
   "metadata": {},
   "outputs": [],
   "source": [
    "X = df.drop('quality', axis=1)\n",
    "y = df['quality']\n",
    "X_train, X_test, y_train, y_test = train_test_split(X, y, test_size=0.2, random_state=42)"
   ]
  },
  {
   "cell_type": "markdown",
   "id": "9a849555-875d-4a9c-97c2-f8e43edecdaf",
   "metadata": {},
   "source": [
    "Creando modelo,entrenando y prediciendo"
   ]
  },
  {
   "cell_type": "code",
   "execution_count": 9,
   "id": "c016e404-cce9-4809-9aa8-831a6e79dd45",
   "metadata": {},
   "outputs": [],
   "source": [
    "model = LinearRegression()\n",
    "model.fit(X_train, y_train)\n",
    "y_pred = model.predict(X_test)"
   ]
  },
  {
   "cell_type": "markdown",
   "id": "b0a06c84-c966-44f7-8cd6-59ea0acef84b",
   "metadata": {},
   "source": [
    "Evaluando"
   ]
  },
  {
   "cell_type": "code",
   "execution_count": 10,
   "id": "4e0a4ff3-7e1a-4940-a168-cde9aaa66945",
   "metadata": {},
   "outputs": [
    {
     "name": "stdout",
     "output_type": "stream",
     "text": [
      "MSE: 0.5690247717229225\n",
      "R²: 0.2652750042179193\n"
     ]
    }
   ],
   "source": [
    "mse = mean_squared_error(y_test, y_pred)\n",
    "r2 = r2_score(y_test, y_pred)\n",
    "print(f'MSE: {mse}')\n",
    "print(f'R²: {r2}')\n",
    "\n"
   ]
  },
  {
   "cell_type": "code",
   "execution_count": null,
   "id": "781788fd-98e8-4975-b65f-5181bf26e69b",
   "metadata": {},
   "outputs": [],
   "source": []
  }
 ],
 "metadata": {
  "kernelspec": {
   "display_name": "Python 3 (ipykernel)",
   "language": "python",
   "name": "python3"
  },
  "language_info": {
   "codemirror_mode": {
    "name": "ipython",
    "version": 3
   },
   "file_extension": ".py",
   "mimetype": "text/x-python",
   "name": "python",
   "nbconvert_exporter": "python",
   "pygments_lexer": "ipython3",
   "version": "3.12.4"
  }
 },
 "nbformat": 4,
 "nbformat_minor": 5
}
