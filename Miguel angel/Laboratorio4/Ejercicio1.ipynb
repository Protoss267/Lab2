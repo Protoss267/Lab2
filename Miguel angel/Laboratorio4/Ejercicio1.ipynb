{
 "cells": [
  {
   "cell_type": "markdown",
   "id": "9cfe6966-af98-4a1f-b6cb-1dd5c7815cd5",
   "metadata": {},
   "source": [
    "Importando librerias"
   ]
  },
  {
   "cell_type": "code",
   "execution_count": 1,
   "id": "7c64e7cc-1115-42f2-944c-2944bafe6375",
   "metadata": {},
   "outputs": [],
   "source": [
    "import pandas as pd\n",
    "from sklearn.model_selection import train_test_split\n",
    "from sklearn.ensemble import BaggingClassifier, RandomForestClassifier, ExtraTreesClassifier\n",
    "from sklearn.metrics import classification_report, confusion_matrix\n",
    "import matplotlib.pyplot as plt\n",
    "import seaborn as sns"
   ]
  },
  {
   "cell_type": "markdown",
   "id": "af5434d6-57ae-4c95-9512-aa165e21a01b",
   "metadata": {},
   "source": [
    "Cargando el data set"
   ]
  },
  {
   "cell_type": "code",
   "execution_count": 2,
   "id": "e5606c49-c396-4cd7-8856-9281f5ebc234",
   "metadata": {},
   "outputs": [],
   "source": [
    "data = pd.read_csv('breast_cancer.csv')"
   ]
  },
  {
   "cell_type": "markdown",
   "id": "d74a7009-a5e2-4fac-ad4e-a7b6e6366a74",
   "metadata": {},
   "source": [
    "Separando caracteristicas y separando en entrenamiento y prueba"
   ]
  },
  {
   "cell_type": "code",
   "execution_count": 3,
   "id": "b41a895d-808e-4f19-b294-f9cf3be194f3",
   "metadata": {},
   "outputs": [],
   "source": [
    "X = data.drop(' diagnosis', axis=1)\n",
    "y = data[' diagnosis']\n",
    "X_train, X_test, y_train, y_test = train_test_split(X, y, test_size=0.2, random_state=42)"
   ]
  },
  {
   "cell_type": "markdown",
   "id": "7863653a-2f2d-4cd2-a3d8-81c725c97562",
   "metadata": {},
   "source": [
    "Creando modelos"
   ]
  },
  {
   "cell_type": "code",
   "execution_count": 4,
   "id": "a7aa35d8-8791-41cf-952a-c771faae0de2",
   "metadata": {},
   "outputs": [],
   "source": [
    "bagging_model = BaggingClassifier(random_state=42)\n",
    "rf_model = RandomForestClassifier(random_state=42)\n",
    "et_model = ExtraTreesClassifier(random_state=42)"
   ]
  },
  {
   "cell_type": "markdown",
   "id": "18e0ebd8-0fee-4b3a-9fe1-a7c7f5efaf9d",
   "metadata": {},
   "source": [
    "Entrenando,prediciendo y evaluando Bagging"
   ]
  },
  {
   "cell_type": "code",
   "execution_count": 5,
   "id": "aa2c70d2-d8a3-4943-8369-0522ec0312b0",
   "metadata": {},
   "outputs": [
    {
     "name": "stdout",
     "output_type": "stream",
     "text": [
      "BaggingClassifier - Reporte de clasificación:\n",
      "              precision    recall  f1-score   support\n",
      "\n",
      "           B       0.96      0.97      0.97        71\n",
      "           M       0.95      0.93      0.94        43\n",
      "\n",
      "    accuracy                           0.96       114\n",
      "   macro avg       0.96      0.95      0.95       114\n",
      "weighted avg       0.96      0.96      0.96       114\n",
      "\n"
     ]
    }
   ],
   "source": [
    "bagging_model.fit(X_train, y_train)\n",
    "y_pred_bagging = bagging_model.predict(X_test)\n",
    "print(\"BaggingClassifier - Reporte de clasificación:\")\n",
    "print(classification_report(y_test, y_pred_bagging))"
   ]
  },
  {
   "cell_type": "markdown",
   "id": "58a7bdcc-32d6-4282-ab46-a92a6fa8ce1a",
   "metadata": {},
   "source": [
    "Entrenando,prediciendo y evaluando RandomForest"
   ]
  },
  {
   "cell_type": "code",
   "execution_count": 6,
   "id": "a08474aa-2193-44f3-95e4-2b9313998e34",
   "metadata": {},
   "outputs": [
    {
     "name": "stdout",
     "output_type": "stream",
     "text": [
      "RandomForestClassifier - Reporte de clasificación:\n",
      "              precision    recall  f1-score   support\n",
      "\n",
      "           B       0.96      0.99      0.97        71\n",
      "           M       0.98      0.93      0.95        43\n",
      "\n",
      "    accuracy                           0.96       114\n",
      "   macro avg       0.97      0.96      0.96       114\n",
      "weighted avg       0.97      0.96      0.96       114\n",
      "\n"
     ]
    }
   ],
   "source": [
    "rf_model.fit(X_train, y_train)\n",
    "y_pred_rf = rf_model.predict(X_test)\n",
    "print(\"RandomForestClassifier - Reporte de clasificación:\")\n",
    "print(classification_report(y_test, y_pred_rf))"
   ]
  },
  {
   "cell_type": "markdown",
   "id": "09cec95f-7284-4864-8ea7-b879eda28353",
   "metadata": {},
   "source": [
    "Entrenando,prediciendo y evaluando ExtraTreesClassifier"
   ]
  },
  {
   "cell_type": "code",
   "execution_count": 7,
   "id": "21384e47-0c93-4a53-8c70-b5f75ed359ee",
   "metadata": {},
   "outputs": [
    {
     "name": "stdout",
     "output_type": "stream",
     "text": [
      "ExtraTreesClassifier - Reporte de clasificación:\n",
      "              precision    recall  f1-score   support\n",
      "\n",
      "           B       0.97      0.99      0.98        71\n",
      "           M       0.98      0.95      0.96        43\n",
      "\n",
      "    accuracy                           0.97       114\n",
      "   macro avg       0.97      0.97      0.97       114\n",
      "weighted avg       0.97      0.97      0.97       114\n",
      "\n"
     ]
    }
   ],
   "source": [
    "et_model.fit(X_train, y_train)\n",
    "y_pred_et = et_model.predict(X_test)\n",
    "print(\"ExtraTreesClassifier - Reporte de clasificación:\")\n",
    "print(classification_report(y_test, y_pred_et))"
   ]
  },
  {
   "cell_type": "code",
   "execution_count": null,
   "id": "b75efbe0-7166-40e9-8620-fa32d9422a98",
   "metadata": {},
   "outputs": [],
   "source": []
  }
 ],
 "metadata": {
  "kernelspec": {
   "display_name": "Python 3 (ipykernel)",
   "language": "python",
   "name": "python3"
  },
  "language_info": {
   "codemirror_mode": {
    "name": "ipython",
    "version": 3
   },
   "file_extension": ".py",
   "mimetype": "text/x-python",
   "name": "python",
   "nbconvert_exporter": "python",
   "pygments_lexer": "ipython3",
   "version": "3.12.4"
  }
 },
 "nbformat": 4,
 "nbformat_minor": 5
}
